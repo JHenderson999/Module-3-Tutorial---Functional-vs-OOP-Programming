{
 "cells": [
  {
   "cell_type": "markdown",
   "id": "84071890-2b7f-4cf8-8615-ff3683cc40ba",
   "metadata": {},
   "source": [
    "Given an array arr containing only 0s, 1s, and 2s. Sort the array in ascending order."
   ]
  },
  {
   "cell_type": "code",
   "execution_count": 5,
   "id": "f5822118-47d0-4455-8eb5-83cea16b4c23",
   "metadata": {},
   "outputs": [
    {
     "name": "stdout",
     "output_type": "stream",
     "text": [
      "Sorted array: [0, 0, 0, 1, 1, 1, 2, 2, 2]\n"
     ]
    }
   ],
   "source": [
    "def sort_array(arr): #creating the array\n",
    "    low, mid, high = 0, 0, len(arr) - 1\n",
    "    \n",
    "    while mid <= high: #sorting elements within the array\n",
    "        if arr[mid] == 0:\n",
    "            arr[low], arr[mid] = arr[mid], arr[low] #tells the program to swap places of elements within the array\n",
    "            low += 1\n",
    "            mid += 1\n",
    "        elif arr[mid] == 1:\n",
    "            mid += 1\n",
    "        else:\n",
    "            arr[mid], arr[high] = arr[high], arr[mid]\n",
    "            high -= 1\n",
    "    \n",
    "    return arr\n",
    "\n",
    "arr = [2, 0, 1, 2, 1, 0, 1, 2, 0] #example input from GeeksforGeeks assignment\n",
    "sorted_arr = sort_array(arr)\n",
    "print(\"Sorted array:\", sorted_arr) #prints the final sorted array"
   ]
  },
  {
   "cell_type": "markdown",
   "id": "3a9c1881-88af-4a56-82d6-4e40a2309b68",
   "metadata": {},
   "source": [
    "Given a sorted array arr and an integer k, find the position(0-based indexing) at which k is present in the array using binary search."
   ]
  },
  {
   "cell_type": "code",
   "execution_count": 6,
   "id": "e98212ee-245d-4a29-bba7-4db19fdfb91c",
   "metadata": {},
   "outputs": [
    {
     "name": "stdout",
     "output_type": "stream",
     "text": [
      "3\n"
     ]
    }
   ],
   "source": [
    "class Solution:\n",
    "    def binarysearch(self, arr, k): #defines and searches for \"k\" within the array\n",
    "\n",
    "        left, right = 0, len(arr) - 1 #tells program where to look for the element\n",
    "        \n",
    "        while left <= right:\n",
    "            mid = left + (right - left) // 2  #finds \"k\" by searching front and back halves of the array\n",
    "\n",
    "            if arr[mid] == k:\n",
    "                return mid  #returns \"k\" if it is found\n",
    "            elif arr[mid] < k:\n",
    "                left = mid + 1  #narrows the search to the right half of the array\n",
    "            else:\n",
    "                right = mid - 1  #narrows the search to the left half of the array\n",
    "        \n",
    "        return -1  #returns -1 if \"k\" is not found\n",
    "\n",
    "solution = Solution() #instantiates class in order to access its attributes\n",
    "arr = [1, 2, 3, 4, 5] #using the same values from GeeksforGeeks assignment\n",
    "k = 4\n",
    "result = solution.binarysearch(arr, k) #finds the position of k within the sorted array\n",
    "print(result) #prints result \"k\" using binary search"
   ]
  },
  {
   "cell_type": "code",
   "execution_count": null,
   "id": "dcc224a9-7f3e-4292-9cb3-d78b38e398e2",
   "metadata": {},
   "outputs": [],
   "source": []
  }
 ],
 "metadata": {
  "kernelspec": {
   "display_name": "Python 3 (ipykernel)",
   "language": "python",
   "name": "python3"
  },
  "language_info": {
   "codemirror_mode": {
    "name": "ipython",
    "version": 3
   },
   "file_extension": ".py",
   "mimetype": "text/x-python",
   "name": "python",
   "nbconvert_exporter": "python",
   "pygments_lexer": "ipython3",
   "version": "3.12.7"
  }
 },
 "nbformat": 4,
 "nbformat_minor": 5
}
